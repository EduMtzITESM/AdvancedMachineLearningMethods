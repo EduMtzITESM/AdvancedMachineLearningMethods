{
 "cells": [
  {
   "cell_type": "markdown",
   "metadata": {},
   "source": [
    "# TC 5033\n",
    "## Deep Learning\n",
    "## Fully Connected Deep Neural Networks\n",
    "\n",
    "### Team members:\n",
    "\n",
    "+ Emmanuel Francisco González Velázquez - A01364577\n",
    "+ Oscar Israel Lerma Franco - A01380817\n",
    "+ Jesús Mario Martínez Díaz - A01740049\n",
    "+ Eduardo Selim Martínez Mayorga - A01795167\n",
    "+ José Antonio Hernández Hernández\n",
    "\n",
    "#### Activity 1b: Implementing a Fully Connected Network for Kaggle ASL Dataset\n",
    "\n",
    "- Objective\n",
    "\n",
    "The aim of this part of the activity is to apply your understanding of Fully Connected Networks by implementing a multilayer network for the [Kaggle ASL (American Sign Language) dataset](https://www.kaggle.com/datasets/grassknoted/asl-alphabet). While you have been provided with a complete solution for a Fully Connected Network using Numpy for the MNIST dataset, you are encouraged to try to come up with the solution.\n",
    "\n",
    "- Instructions\n",
    "\n",
    "    This activity requires submission in teams of 3 or 4 members. Submissions from smaller or larger teams will not be accepted unless prior approval has been granted (only due to exceptional circumstances). While teamwork is encouraged, each member is expected to contribute individually to the assignment. The final submission should feature the best arguments and solutions from each team member. Only one person per team needs to submit the completed work, but it is imperative that the names of all team members are listed in a Markdown cell at the very beginning of the notebook (either the first or second cell). Failure to include all team member names will result in the grade being awarded solely to the individual who submitted the assignment, with zero points given to other team members (no exceptions will be made to this rule).\n",
    "\n",
    "    Load and Preprocess Data: You are provided a starter code to load the data. Be sure to understand the code.\n",
    "\n",
    "    Review MNIST Notebook (Optional): Before diving into this activity, you have the option to revisit the MNIST example to refresh your understanding of how to build a Fully Connected Network using Numpy.\n",
    "\n",
    "    Start Fresh: Although you can refer to the MNIST solution at any point, try to implement the network for the ASL dataset on your own. This will reinforce your learning and understanding of the architecture and mathematics involved.\n",
    "\n",
    "    Implement Forward and Backward Pass: Write the code to perform the forward and backward passes, keeping in mind the specific challenges and characteristics of the ASL dataset.\n",
    "    \n",
    "     Design the Network: Create the architecture of the Fully Connected Network tailored for the ASL dataset. Choose the number of hidden layers, neurons, and hyperparameters judiciously.\n",
    "\n",
    "    Train the Model: Execute the training loop, ensuring to track performance metrics such as loss and accuracy.\n",
    "\n",
    "    Analyze and Document: Use Markdown cells to document in detail the choices you made in terms of architecture and hyperparameters, you may use figures, equations, etc to aid in your explanations. Include any metrics that help justify these choices and discuss the model's performance.  \n",
    "\n",
    "- Evaluation Criteria\n",
    "\n",
    "    - Code Readability and Comments\n",
    "    - Appropriateness of chosen architecture and hyperparameters for the ASL dataset\n",
    "    - Performance of the model on the ASL dataset (at least 70% acc)\n",
    "    - Quality of Markdown documentation\n",
    "\n",
    "- Submission\n",
    "\n",
    "Submit this Jupyter Notebook in canvas with your complete solution, ensuring your code is well-commented and includes Markdown cells that explain your design choices, results, and any challenges you encountered.\n"
   ]
  },
  {
   "cell_type": "code",
   "execution_count": 1,
   "metadata": {},
   "outputs": [],
   "source": [
    "import numpy as np\n",
    "import string\n",
    "import math\n",
    "import pandas as pd\n",
    "import matplotlib.pyplot as plt\n",
    "import os\n",
    "from mnist import MNIST"
   ]
  },
  {
   "cell_type": "code",
   "execution_count": 2,
   "metadata": {},
   "outputs": [],
   "source": [
    "# DATA_PATH = '/media/pepe/DataUbuntu/Databases/asl_data/'\n",
    "#DATA_PATH = '/home/pepe/Documents/github_repos/datasets/asl_data'\n",
    "#train_df = pd.read_csv(os.path.join(DATA_PATH, 'sign_mnist_train.csv'))\n",
    "#valid_df = pd.read_csv(os.path.join(DATA_PATH, 'sign_mnist_valid.csv'))"
   ]
  },
  {
   "cell_type": "code",
   "execution_count": 3,
   "metadata": {},
   "outputs": [],
   "source": [
    "# Files are located in the same location as this Jupyter Notebook\n",
    "\n",
    "train_df = pd.read_csv('sign_mnist_train.csv')\n",
    "valid_df = pd.read_csv('sign_mnist_valid.csv')"
   ]
  },
  {
   "cell_type": "markdown",
   "metadata": {},
   "source": [
    "Let's take a look at the `train_df` dataframe"
   ]
  },
  {
   "cell_type": "code",
   "execution_count": 4,
   "metadata": {},
   "outputs": [
    {
     "data": {
      "text/html": [
       "<div>\n",
       "<style scoped>\n",
       "    .dataframe tbody tr th:only-of-type {\n",
       "        vertical-align: middle;\n",
       "    }\n",
       "\n",
       "    .dataframe tbody tr th {\n",
       "        vertical-align: top;\n",
       "    }\n",
       "\n",
       "    .dataframe thead th {\n",
       "        text-align: right;\n",
       "    }\n",
       "</style>\n",
       "<table border=\"1\" class=\"dataframe\">\n",
       "  <thead>\n",
       "    <tr style=\"text-align: right;\">\n",
       "      <th></th>\n",
       "      <th>label</th>\n",
       "      <th>pixel1</th>\n",
       "      <th>pixel2</th>\n",
       "      <th>pixel3</th>\n",
       "      <th>pixel4</th>\n",
       "      <th>pixel5</th>\n",
       "      <th>pixel6</th>\n",
       "      <th>pixel7</th>\n",
       "      <th>pixel8</th>\n",
       "      <th>pixel9</th>\n",
       "      <th>...</th>\n",
       "      <th>pixel775</th>\n",
       "      <th>pixel776</th>\n",
       "      <th>pixel777</th>\n",
       "      <th>pixel778</th>\n",
       "      <th>pixel779</th>\n",
       "      <th>pixel780</th>\n",
       "      <th>pixel781</th>\n",
       "      <th>pixel782</th>\n",
       "      <th>pixel783</th>\n",
       "      <th>pixel784</th>\n",
       "    </tr>\n",
       "  </thead>\n",
       "  <tbody>\n",
       "    <tr>\n",
       "      <th>0</th>\n",
       "      <td>3</td>\n",
       "      <td>107</td>\n",
       "      <td>118</td>\n",
       "      <td>127</td>\n",
       "      <td>134</td>\n",
       "      <td>139</td>\n",
       "      <td>143</td>\n",
       "      <td>146</td>\n",
       "      <td>150</td>\n",
       "      <td>153</td>\n",
       "      <td>...</td>\n",
       "      <td>207</td>\n",
       "      <td>207</td>\n",
       "      <td>207</td>\n",
       "      <td>207</td>\n",
       "      <td>206</td>\n",
       "      <td>206</td>\n",
       "      <td>206</td>\n",
       "      <td>204</td>\n",
       "      <td>203</td>\n",
       "      <td>202</td>\n",
       "    </tr>\n",
       "    <tr>\n",
       "      <th>1</th>\n",
       "      <td>6</td>\n",
       "      <td>155</td>\n",
       "      <td>157</td>\n",
       "      <td>156</td>\n",
       "      <td>156</td>\n",
       "      <td>156</td>\n",
       "      <td>157</td>\n",
       "      <td>156</td>\n",
       "      <td>158</td>\n",
       "      <td>158</td>\n",
       "      <td>...</td>\n",
       "      <td>69</td>\n",
       "      <td>149</td>\n",
       "      <td>128</td>\n",
       "      <td>87</td>\n",
       "      <td>94</td>\n",
       "      <td>163</td>\n",
       "      <td>175</td>\n",
       "      <td>103</td>\n",
       "      <td>135</td>\n",
       "      <td>149</td>\n",
       "    </tr>\n",
       "    <tr>\n",
       "      <th>2</th>\n",
       "      <td>2</td>\n",
       "      <td>187</td>\n",
       "      <td>188</td>\n",
       "      <td>188</td>\n",
       "      <td>187</td>\n",
       "      <td>187</td>\n",
       "      <td>186</td>\n",
       "      <td>187</td>\n",
       "      <td>188</td>\n",
       "      <td>187</td>\n",
       "      <td>...</td>\n",
       "      <td>202</td>\n",
       "      <td>201</td>\n",
       "      <td>200</td>\n",
       "      <td>199</td>\n",
       "      <td>198</td>\n",
       "      <td>199</td>\n",
       "      <td>198</td>\n",
       "      <td>195</td>\n",
       "      <td>194</td>\n",
       "      <td>195</td>\n",
       "    </tr>\n",
       "    <tr>\n",
       "      <th>3</th>\n",
       "      <td>2</td>\n",
       "      <td>211</td>\n",
       "      <td>211</td>\n",
       "      <td>212</td>\n",
       "      <td>212</td>\n",
       "      <td>211</td>\n",
       "      <td>210</td>\n",
       "      <td>211</td>\n",
       "      <td>210</td>\n",
       "      <td>210</td>\n",
       "      <td>...</td>\n",
       "      <td>235</td>\n",
       "      <td>234</td>\n",
       "      <td>233</td>\n",
       "      <td>231</td>\n",
       "      <td>230</td>\n",
       "      <td>226</td>\n",
       "      <td>225</td>\n",
       "      <td>222</td>\n",
       "      <td>229</td>\n",
       "      <td>163</td>\n",
       "    </tr>\n",
       "    <tr>\n",
       "      <th>4</th>\n",
       "      <td>12</td>\n",
       "      <td>164</td>\n",
       "      <td>167</td>\n",
       "      <td>170</td>\n",
       "      <td>172</td>\n",
       "      <td>176</td>\n",
       "      <td>179</td>\n",
       "      <td>180</td>\n",
       "      <td>184</td>\n",
       "      <td>185</td>\n",
       "      <td>...</td>\n",
       "      <td>92</td>\n",
       "      <td>105</td>\n",
       "      <td>105</td>\n",
       "      <td>108</td>\n",
       "      <td>133</td>\n",
       "      <td>163</td>\n",
       "      <td>157</td>\n",
       "      <td>163</td>\n",
       "      <td>164</td>\n",
       "      <td>179</td>\n",
       "    </tr>\n",
       "  </tbody>\n",
       "</table>\n",
       "<p>5 rows × 785 columns</p>\n",
       "</div>"
      ],
      "text/plain": [
       "   label  pixel1  pixel2  pixel3  pixel4  pixel5  pixel6  pixel7  pixel8  \\\n",
       "0      3     107     118     127     134     139     143     146     150   \n",
       "1      6     155     157     156     156     156     157     156     158   \n",
       "2      2     187     188     188     187     187     186     187     188   \n",
       "3      2     211     211     212     212     211     210     211     210   \n",
       "4     12     164     167     170     172     176     179     180     184   \n",
       "\n",
       "   pixel9  ...  pixel775  pixel776  pixel777  pixel778  pixel779  pixel780  \\\n",
       "0     153  ...       207       207       207       207       206       206   \n",
       "1     158  ...        69       149       128        87        94       163   \n",
       "2     187  ...       202       201       200       199       198       199   \n",
       "3     210  ...       235       234       233       231       230       226   \n",
       "4     185  ...        92       105       105       108       133       163   \n",
       "\n",
       "   pixel781  pixel782  pixel783  pixel784  \n",
       "0       206       204       203       202  \n",
       "1       175       103       135       149  \n",
       "2       198       195       194       195  \n",
       "3       225       222       229       163  \n",
       "4       157       163       164       179  \n",
       "\n",
       "[5 rows x 785 columns]"
      ]
     },
     "execution_count": 4,
     "metadata": {},
     "output_type": "execute_result"
    }
   ],
   "source": [
    "train_df.head()"
   ]
  },
  {
   "cell_type": "markdown",
   "metadata": {},
   "source": [
    "We will review the dimensions of each dataframe:"
   ]
  },
  {
   "cell_type": "code",
   "execution_count": 5,
   "metadata": {},
   "outputs": [
    {
     "data": {
      "text/plain": [
       "pandas.core.series.Series"
      ]
     },
     "execution_count": 5,
     "metadata": {},
     "output_type": "execute_result"
    }
   ],
   "source": [
    "type(train_df.loc[9])"
   ]
  },
  {
   "cell_type": "code",
   "execution_count": 6,
   "metadata": {},
   "outputs": [
    {
     "data": {
      "text/plain": [
       "(7172, 785)"
      ]
     },
     "execution_count": 6,
     "metadata": {},
     "output_type": "execute_result"
    }
   ],
   "source": [
    "# Dimension of validation dataset\n",
    "valid_df.shape"
   ]
  },
  {
   "cell_type": "markdown",
   "metadata": {},
   "source": [
    "### Import Images"
   ]
  },
  {
   "cell_type": "markdown",
   "metadata": {},
   "source": [
    "Next, the explanatory variables and the target variable will be constructed"
   ]
  },
  {
   "cell_type": "code",
   "execution_count": 7,
   "metadata": {},
   "outputs": [],
   "source": [
    "# array for target variable for training\n",
    "y_train = np.array(train_df['label']).reshape(-1, 1)\n",
    "\n",
    "# array for target variable for validation\n",
    "y_val = np.array(valid_df['label']).reshape(-1, 1)\n",
    "del train_df['label']\n",
    "del valid_df['label']\n",
    "\n",
    "# array for explanatory variables for training\n",
    "x_train = train_df.values.astype(np.float32)\n",
    "\n",
    "# array for explanatory variables for validation\n",
    "x_val = valid_df.values.astype(np.float32)"
   ]
  },
  {
   "cell_type": "markdown",
   "metadata": {},
   "source": [
    "We will review the dimensions of each array:"
   ]
  },
  {
   "cell_type": "code",
   "execution_count": 8,
   "metadata": {},
   "outputs": [
    {
     "data": {
      "text/plain": [
       "(27455, 784)"
      ]
     },
     "execution_count": 8,
     "metadata": {},
     "output_type": "execute_result"
    }
   ],
   "source": [
    "# Dimension of train explanatory variables\n",
    "x_train.shape"
   ]
  },
  {
   "cell_type": "code",
   "execution_count": 9,
   "metadata": {},
   "outputs": [
    {
     "data": {
      "text/plain": [
       "(27455, 1)"
      ]
     },
     "execution_count": 9,
     "metadata": {},
     "output_type": "execute_result"
    }
   ],
   "source": [
    "# Dimension of train target variable\n",
    "y_train.shape"
   ]
  },
  {
   "cell_type": "code",
   "execution_count": 10,
   "metadata": {},
   "outputs": [
    {
     "data": {
      "text/plain": [
       "(7172, 784)"
      ]
     },
     "execution_count": 10,
     "metadata": {},
     "output_type": "execute_result"
    }
   ],
   "source": [
    "# Dimension of validation explanatory variables\n",
    "x_val.shape"
   ]
  },
  {
   "cell_type": "code",
   "execution_count": 11,
   "metadata": {},
   "outputs": [
    {
     "data": {
      "text/plain": [
       "(7172, 1)"
      ]
     },
     "execution_count": 11,
     "metadata": {},
     "output_type": "execute_result"
    }
   ],
   "source": [
    "# Dimension of validation target variable\n",
    "y_val.shape"
   ]
  },
  {
   "cell_type": "markdown",
   "metadata": {},
   "source": [
    "Next, we create a function that will allow you to split the previously loaded validation set into valition and test sets"
   ]
  },
  {
   "cell_type": "code",
   "execution_count": 12,
   "metadata": {
    "code_folding": []
   },
   "outputs": [],
   "source": [
    "def split_val_test(x, y, pct=0.5, shuffle=True):\n",
    "    '''\n",
    "    Input: x - an array\n",
    "    Input: y - an arrya\n",
    "    Input: pct - percetage of training dataset\n",
    "    Input: shuffle - Boolean variable to random ordering of observations\n",
    "    '''\n",
    "    assert x.shape[0] == y.shape[0], 'Error en cantidad de muestras'\n",
    "    # Arroja un error si el núm de renglones no coincide\n",
    "    num_renglones = x.shape[0] # i.e. el número de renglones de x\n",
    "    num_renglones_test = math.ceil(pct*num_renglones)\n",
    "    if shuffle: \n",
    "        idxs = np.arange(num_renglones) #crea un arreglo de 0 a n = num_renglones\n",
    "        np.random.shuffle(idxs) # revuelve el objeto idxs\n",
    "        x_test = x[idxs[0:(num_renglones_test + 1)]] # first random idxs for x\n",
    "        y_test = y[idxs[0:(num_renglones_test + 1)]] # same first random idxs for y\n",
    "        x_val = x[idxs[(num_renglones_test + 1):]] # last random idxs for x\n",
    "        y_val = y[idxs[(num_renglones_test + 1):]] # same last random idxs for y\n",
    "    return(x_val, y_val, x_test, y_test)"
   ]
  },
  {
   "cell_type": "markdown",
   "metadata": {},
   "source": [
    "Function `split_val_test` will be applied to obtain the test and validation sets"
   ]
  },
  {
   "cell_type": "code",
   "execution_count": 13,
   "metadata": {},
   "outputs": [],
   "source": [
    "x_val, y_val, x_test, y_test = split_val_test(x_val, y_val)"
   ]
  },
  {
   "cell_type": "markdown",
   "metadata": {},
   "source": [
    "We will review the dimensions of each array:"
   ]
  },
  {
   "cell_type": "code",
   "execution_count": 14,
   "metadata": {},
   "outputs": [
    {
     "data": {
      "text/plain": [
       "(3587, 784)"
      ]
     },
     "execution_count": 14,
     "metadata": {},
     "output_type": "execute_result"
    }
   ],
   "source": [
    "# Dimension of test explanatory variables\n",
    "x_test.shape"
   ]
  },
  {
   "cell_type": "code",
   "execution_count": 15,
   "metadata": {},
   "outputs": [
    {
     "data": {
      "text/plain": [
       "(3585, 784)"
      ]
     },
     "execution_count": 15,
     "metadata": {},
     "output_type": "execute_result"
    }
   ],
   "source": [
    "# Dimension of validation explanatory variables\n",
    "x_val.shape"
   ]
  },
  {
   "cell_type": "markdown",
   "metadata": {},
   "source": [
    "Note that the row number actually coincides"
   ]
  },
  {
   "cell_type": "code",
   "execution_count": 16,
   "metadata": {},
   "outputs": [
    {
     "data": {
      "text/plain": [
       "7172"
      ]
     },
     "execution_count": 16,
     "metadata": {},
     "output_type": "execute_result"
    }
   ],
   "source": [
    "x_val.shape[0] + x_test.shape[0]"
   ]
  },
  {
   "cell_type": "code",
   "execution_count": 17,
   "metadata": {},
   "outputs": [
    {
     "data": {
      "text/plain": [
       "(3587, 1)"
      ]
     },
     "execution_count": 17,
     "metadata": {},
     "output_type": "execute_result"
    }
   ],
   "source": [
    "# Dimension of test target variable\n",
    "y_test.shape"
   ]
  },
  {
   "cell_type": "code",
   "execution_count": 18,
   "metadata": {},
   "outputs": [
    {
     "data": {
      "text/plain": [
       "(3585, 1)"
      ]
     },
     "execution_count": 18,
     "metadata": {},
     "output_type": "execute_result"
    }
   ],
   "source": [
    "# Dimension of validation target variable\n",
    "y_val.shape"
   ]
  },
  {
   "cell_type": "markdown",
   "metadata": {},
   "source": [
    "Note that the row number actually coincides"
   ]
  },
  {
   "cell_type": "code",
   "execution_count": 19,
   "metadata": {},
   "outputs": [
    {
     "data": {
      "text/plain": [
       "7172"
      ]
     },
     "execution_count": 19,
     "metadata": {},
     "output_type": "execute_result"
    }
   ],
   "source": [
    "y_val.shape[0] + y_test.shape[0]"
   ]
  },
  {
   "cell_type": "code",
   "execution_count": 20,
   "metadata": {},
   "outputs": [
    {
     "name": "stdout",
     "output_type": "stream",
     "text": [
      "24\n"
     ]
    }
   ],
   "source": [
    "### The following code removes 'j' and 'z' ascii lowercase characters\n",
    "### and assign to list\n",
    "\n",
    "alphabet=list(string.ascii_lowercase)\n",
    "alphabet.remove('j')\n",
    "alphabet.remove('z')\n",
    "print(len(alphabet))"
   ]
  },
  {
   "cell_type": "markdown",
   "metadata": {},
   "source": [
    "### Normalise"
   ]
  },
  {
   "cell_type": "markdown",
   "metadata": {},
   "source": [
    "We reuse `normalise()` function (in `A1a_DL_TC5033.ipynb` file) to center de data"
   ]
  },
  {
   "cell_type": "code",
   "execution_count": 21,
   "metadata": {},
   "outputs": [],
   "source": [
    "def normalise(x_mean, x_std, x_data):\n",
    "    # Normalize the data: subtract the mean and divide by the standard deviation\n",
    "    return (x_data - x_mean) / x_std"
   ]
  },
  {
   "cell_type": "code",
   "execution_count": 22,
   "metadata": {},
   "outputs": [],
   "source": [
    "# Calculate the mean of the training data\n",
    "x_mean = x_train.mean()\n",
    "\n",
    "# Calculate the standard deviation of the training data\n",
    "x_std = x_train.std()\n",
    "\n",
    "\n",
    "x_test_original = x_test.copy()\n",
    "\n",
    "# Normalize the training data using the mean and standard deviation of the training set\n",
    "# This ensures that the training data will have a mean of 0 and a standard deviation of 1\n",
    "x_train = normalise(x_mean, x_std, x_train)\n",
    "\n",
    "# Normalize the validation data using the same mean and standard deviation from the training set\n",
    "# It's important to use the training mean and std to prevent data leakage\n",
    "x_val = normalise(x_mean, x_std, x_val)\n",
    "\n",
    "# Normalize the test data using the same mean and standard deviation from the training set\n",
    "# This keeps the model evaluation consistent with how it was trained\n",
    "x_test = normalise(x_mean, x_std, x_test)"
   ]
  },
  {
   "cell_type": "markdown",
   "metadata": {},
   "source": [
    "We can observe that the explanatory variables effectively have a mean of 0 and a standard deviation of 1."
   ]
  },
  {
   "cell_type": "code",
   "execution_count": 23,
   "metadata": {},
   "outputs": [
    {
     "data": {
      "text/plain": [
       "(3.6268384e-06, 0.99999946)"
      ]
     },
     "execution_count": 23,
     "metadata": {},
     "output_type": "execute_result"
    }
   ],
   "source": [
    "x_train.mean(), x_train.std()"
   ]
  },
  {
   "cell_type": "markdown",
   "metadata": {},
   "source": [
    "### Plot samples"
   ]
  },
  {
   "cell_type": "code",
   "execution_count": 24,
   "metadata": {},
   "outputs": [],
   "source": [
    "def plot_number(image):\n",
    "    plt.figure(figsize=(5,5))\n",
    "    # Reshape the 1D array back to 28x28 before plotting\n",
    "    plt.imshow(image.reshape((28, 28)), cmap=plt.get_cmap('gray'))\n",
    "    plt.axis('off')\n",
    "    plt.show()"
   ]
  },
  {
   "cell_type": "code",
   "execution_count": 25,
   "metadata": {},
   "outputs": [
    {
     "name": "stdout",
     "output_type": "stream",
     "text": [
      "La imagen muestreada representa un: 12\n"
     ]
    },
    {
     "data": {
      "image/png": "[encoded data removed]",
      "text/plain": [
       "<Figure size 360x360 with 1 Axes>"
      ]
     },
     "metadata": {
      "needs_background": "light"
     },
     "output_type": "display_data"
    }
   ],
   "source": [
    "# Example usage:\n",
    "\n",
    "# Randomly sample an index from x_train\n",
    "rnd_idx = np.random.randint(len(y_test))\n",
    "\n",
    "# Correct indexing for y_train\n",
    "print(f'La imagen muestreada representa un: {y_test[rnd_idx,0]}')\n",
    "\n",
    "# Plot corresponding image (x) for y in test dataset\n",
    "plot_number(x_test_original[rnd_idx])"
   ]
  },
  {
   "cell_type": "markdown",
   "metadata": {},
   "source": [
    "### Ecuaciones para nuestro modelo\n",
    "\n",
    "\n",
    "$$z^1 = W^1 X + b^1$$\n",
    "\n",
    "$$a^1 = ReLU(z^1) $$\n",
    "\n",
    "$$z^2 = W^2 a^1 + b^2$$\n",
    "\n",
    "$$\\hat{y} = \\frac{e^{z^{2_k}}}{\\sum_j{e^{z_j}}}$$\n",
    "\n",
    "\n",
    "$$ \\mathcal{L}(\\hat{y}^{i}, y^{i}) =  - y^{i}  \\ln(\\hat{y}^{i}) = -\\ln(\\hat{y}^i)$$\n",
    "\n",
    "\n",
    "$$ \\mathcal{J}(w, b) =  \\frac{1}{num\\_samples} \\sum_{i=1}^{num\\_samples}-\\ln(\\hat{y}^{i})$$"
   ]
  },
  {
   "cell_type": "markdown",
   "metadata": {},
   "source": [
    "### Funciones adicionales"
   ]
  },
  {
   "cell_type": "markdown",
   "metadata": {},
   "source": [
    "#### Mini batches"
   ]
  },
  {
   "cell_type": "code",
   "execution_count": 26,
   "metadata": {},
   "outputs": [],
   "source": [
    "def create_minibatches(mb_size, x, y, shuffle = True):\n",
    "    '''\n",
    "    Input: x\n",
    "    Input: y\n",
    "    Output: \n",
    "    '''\n",
    "    # Ensure that the number of samples in x and y are equal\n",
    "    assert x.shape[0] == y.shape[0], 'Error en cantidad de muestras'\n",
    "    \n",
    "    total_data = x.shape[0] # Get the total number of samples\n",
    "    if shuffle:\n",
    "        # Generate an array of indices and shuffle them to randomize the order of samples\n",
    "        idxs = np.arange(total_data)\n",
    "        np.random.shuffle(idxs)\n",
    "        \n",
    "        # Reorder x and y according to the shuffled indices\n",
    "        x = x[idxs]\n",
    "        y = y[idxs]\n",
    "    \n",
    "    # Return a generator that splits the data into minibatches of size `mb_size`\n",
    "    return ((x[i:i+mb_size], y[i:i+mb_size]) for i in range(0, total_data, mb_size))"
   ]
  },
  {
   "cell_type": "markdown",
   "metadata": {},
   "source": [
    "## Nuestra clase Linear, ReLU y Sequential"
   ]
  },
  {
   "cell_type": "code",
   "execution_count": 27,
   "metadata": {},
   "outputs": [],
   "source": [
    "# Definición de una nueva clase llamada np_tensor, que hereda de la clase np.ndarray (la clase base de arrays en NumPy).\n",
    "class np_tensor(np.ndarray): \n",
    "    # pass es una palabra clave en Python que indica que no se define ningún método o funcionalidad adicional.\n",
    "    # Esto significa que la clase np_tensor, por ahora, no añade nada nuevo a np.ndarray, \n",
    "    # simplemente hereda todas las propiedades y comportamientos de np.ndarray sin modificaciones.\n",
    "    pass"
   ]
  },
  {
   "cell_type": "markdown",
   "metadata": {},
   "source": [
    "###  Clase Linear"
   ]
  },
  {
   "cell_type": "code",
   "execution_count": 28,
   "metadata": {},
   "outputs": [],
   "source": [
    "class Linear():\n",
    "    # El constructor inicializa la capa lineal con los tamaños de entrada y salida.\n",
    "    # input_size: el número de características de entrada (dimensionalidad del vector de entrada).\n",
    "    # output_size: el número de neuronas o salidas de la capa.\n",
    "    def __init__(self, input_size, output_size):\n",
    "        '''\n",
    "        Inicializa los parámetros de la capa utilizando la inicialización de Kaiming He.\n",
    "        '''\n",
    "        # self.W es la matriz de pesos de la capa, de tamaño (output_size, input_size).\n",
    "        # Se inicializa con una distribución normal (randn) escalada por 1/√(input_size/2) \n",
    "        # para mantener una propagación estable de los gradientes.\n",
    "        self.W = (np.random.randn(output_size, input_size) / np.sqrt(input_size/2)).view(np_tensor)\n",
    "\n",
    "        # self.b es el vector de bias (sesgo) de la capa, de tamaño (output_size, 1).\n",
    "        # Inicializado con ceros.\n",
    "        self.b = (np.zeros((output_size, 1))).view(np_tensor)\n",
    "\n",
    "    # Definimos el método forward, que es llamado automáticamente al utilizar la instancia de la clase\n",
    "    # como una función (por eso se usa __call__).\n",
    "    # X: la entrada a la capa, de tamaño (input_size, batch_size).\n",
    "    def __call__(self, X): \n",
    "        # Calculamos la salida de la capa, Z, aplicando la transformación lineal Z = W @ X + b.\n",
    "        # @ es la operación de multiplicación de matrices en Python.\n",
    "        # W es de tamaño (output_size, input_size) y X es de tamaño (input_size, batch_size),\n",
    "        # lo que da como resultado Z de tamaño (output_size, batch_size).\n",
    "        Z = self.W @ X + self.b\n",
    "        return Z  # Retorna la salida Z\n",
    "\n",
    "    # Definimos el método backward para realizar la retropropagación y calcular los gradientes.\n",
    "    # X: la entrada original a la capa.\n",
    "    # Z: la salida de la capa después de aplicar la transformación lineal.\n",
    "    def backward(self, X, Z):\n",
    "        # Calculamos el gradiente de la entrada (X.grad), propagando el gradiente hacia atrás.\n",
    "        # El gradiente con respecto a X es W.T (la transpuesta de W) multiplicado por Z.grad\n",
    "        # (el gradiente de la pérdida con respecto a la salida Z).\n",
    "        X.grad = self.W.T @ Z.grad\n",
    "\n",
    "        # Calculamos el gradiente con respecto a los pesos (self.W.grad).\n",
    "        # El gradiente de los pesos es Z.grad multiplicado por la transpuesta de X.\n",
    "        self.W.grad = Z.grad @ X.T\n",
    "\n",
    "        # Calculamos el gradiente con respecto al bias (self.b.grad).\n",
    "        # Sumamos Z.grad sobre el eje 1 (es decir, sobre el batch) para obtener el gradiente del bias.\n",
    "        # El parámetro keepdims=True mantiene la dimensión del resultado para que coincida con self.b.\n",
    "        self.b.grad = np.sum(Z.grad, axis=1, keepdims=True)"
   ]
  },
  {
   "cell_type": "markdown",
   "metadata": {},
   "source": [
    "### Clase ReLU"
   ]
  },
  {
   "cell_type": "code",
   "execution_count": 29,
   "metadata": {},
   "outputs": [],
   "source": [
    "class ReLU():\n",
    "    \n",
    "    # Este método especial '__call__' permite que una instancia de la clase sea llamada como una función.\n",
    "    # Z: La entrada a la función de activación (puede ser un array de NumPy).\n",
    "    def __call__(self, Z):\n",
    "        # La función ReLU devuelve el valor máximo entre 0 y cada elemento de Z.\n",
    "        # Si un elemento en Z es negativo, la salida será 0; si es positivo, la salida será el valor del elemento.\n",
    "        return np.maximum(0, Z)\n",
    "\n",
    "    # Este método 'backward' implementa la retropropagación para la función ReLU.\n",
    "    # Z: La entrada original a la función de activación.\n",
    "    # A: La salida de la función de activación (después de aplicar ReLU en el forward pass).\n",
    "    def backward(self, Z, A):\n",
    "        # Inicializamos el gradiente de Z con una copia del gradiente de A.\n",
    "        Z.grad = A.grad.copy()\n",
    "\n",
    "        # En la retropropagación, los gradientes a través de la función ReLU solo pasan\n",
    "        # si la entrada original Z es mayor que 0. Si Z es menor o igual a 0, se hace cero el gradiente.\n",
    "        Z.grad[Z <= 0] = 0"
   ]
  },
  {
   "cell_type": "markdown",
   "metadata": {},
   "source": [
    "### Clase Sequential"
   ]
  },
  {
   "cell_type": "code",
   "execution_count": 30,
   "metadata": {},
   "outputs": [],
   "source": [
    "# Definición de una clase llamada Sequential_layers que permite crear y manejar un modelo secuencial de capas.\n",
    "# Este tipo de modelo se utiliza frecuentemente en redes neuronales, donde las capas se apilan de manera secuencial\n",
    "# y cada capa toma la salida de la anterior como su entrada.\n",
    "class Sequential_layers():\n",
    "    \n",
    "    # Constructor de la clase, inicializa el modelo secuencial con una lista de capas.\n",
    "    def __init__(self, layers):\n",
    "        '''\n",
    "        layers - lista que contiene objetos de tipo Linear, ReLU\n",
    "        '''\n",
    "        # Almacenamos la lista de capas que se pasarán al modelo.\n",
    "        self.layers = layers\n",
    "        # Variable que contendrá la entrada inicial del modelo (el input 'X').\n",
    "        self.x = None\n",
    "        # Diccionario que almacenará las salidas intermedias (outputs) de cada capa.\n",
    "        # Esto es útil para realizar la retropropagación ya que necesitamos las salidas de cada capa.\n",
    "        self.outputs = {}\n",
    "\n",
    "    # Este método __call__ implementa la propagación hacia adelante (forward pass).\n",
    "    # Permite que la clase pueda ser llamada como una función: model(input) es equivalente a model.__call__(input).\n",
    "    def __call__(self, X):\n",
    "        # Almacenamos la entrada original en self.x. Esto es útil para saber qué input se ha pasado.\n",
    "        self.x = X \n",
    "        \n",
    "        # Guardamos la entrada inicial en el diccionario outputs bajo la clave 'l0', ya que esto representa la capa de entrada.\n",
    "        # Cada clave en el diccionario corresponderá a una capa (l1, l2, l3, etc.) y su salida.\n",
    "        self.outputs['l0'] = self.x\n",
    "        \n",
    "        # Iteramos sobre cada capa en la lista self.layers.\n",
    "        # Enumeramos las capas para tener un índice (i), que comienza en 1.\n",
    "        # El índice es útil para rastrear las salidas de cada capa y guardarlas en el diccionario outputs.\n",
    "        for i, layer in enumerate(self.layers, 1):\n",
    "            # Actualizamos self.x al pasar la entrada por la capa actual.\n",
    "            # La salida de cada capa se convierte en la entrada de la siguiente capa.\n",
    "            self.x = layer(self.x)\n",
    "            \n",
    "            # Guardamos la salida de la capa actual en el diccionario outputs bajo la clave 'l{i}'.\n",
    "            # Esto es necesario para la retropropagación, ya que las salidas intermedias se utilizan para calcular los gradientes.\n",
    "            self.outputs['l'+str(i)] = self.x\n",
    "        \n",
    "        # Al final, devolvemos la salida final del modelo después de haber pasado por todas las capas.\n",
    "        return self.x\n",
    "    \n",
    "    # Método backward implementa la retropropagación para calcular los gradientes de todas las capas.\n",
    "    # Utiliza las salidas almacenadas en self.outputs para calcular los gradientes de cada capa en orden inverso.\n",
    "    def backward(self):\n",
    "        # Recorremos las capas en orden inverso (de la última a la primera) usando reversed().\n",
    "        # La retropropagación necesita empezar desde la salida final y moverse hacia la entrada.\n",
    "        for i in reversed(range(len(self.layers))):\n",
    "            # Llamamos al método backward de cada capa.\n",
    "            # Para cada capa, pasamos la salida de la capa actual (outputs['l{i}']) y la salida de la siguiente capa (outputs['l{i+1}']).\n",
    "            # Estos valores son necesarios para calcular los gradientes correctos.\n",
    "            self.layers[i].backward(self.outputs['l'+str(i)], self.outputs['l'+str(i+1)])\n",
    "    \n",
    "    # Método update actualiza los parámetros (pesos y bias) de las capas lineales después de la retropropagación.\n",
    "    # La tasa de aprendizaje (learning_rate) controla la magnitud de los cambios realizados en los parámetros.\n",
    "    def update(self, learning_rate=1e-3):\n",
    "        # Recorremos todas las capas en el modelo secuencial.\n",
    "        for layer in self.layers:\n",
    "            # Verificamos si la capa actual es de tipo ReLU.\n",
    "            # Si la capa es ReLU, no hacemos ninguna actualización porque ReLU no tiene parámetros (ni pesos ni bias).\n",
    "            if isinstance(layer, ReLU):\n",
    "                continue  # Pasamos a la siguiente iteración si es ReLU ya que es la función escalon.\n",
    "            \n",
    "            # Si la capa es de tipo Linear, actualizamos los pesos (W) y los bias (b).\n",
    "            # La actualización de los pesos se hace restando el gradiente multiplicado por la tasa de aprendizaje.\n",
    "            # Esto sigue el algoritmo de gradiente descendente.\n",
    "            layer.W = layer.W - learning_rate * layer.W.grad\n",
    "            \n",
    "            # Lo mismo se aplica al bias. Restamos el gradiente del bias multiplicado por la tasa de aprendizaje.\n",
    "            layer.b = layer.b - learning_rate * layer.b.grad\n",
    "    \n",
    "    # Método predict realiza una predicción usando el modelo secuencial.\n",
    "    # Toma como entrada X y pasa la entrada a través del forward pass (propagación hacia adelante).\n",
    "    def predict(self, X):\n",
    "        # Realizamos un forward pass llamando al modelo con la entrada X.\n",
    "        output = self.__call__(X)\n",
    "        \n",
    "        # Usamos np.argmax para seleccionar el índice de la clase con mayor valor en la salida.\n",
    "        # np.argmax devuelve el índice del valor más alto, lo cual es útil para tareas de clasificación.\n",
    "        # Esto asume que la última capa del modelo es una capa de salida de clasificación, como softmax.\n",
    "        return np.argmax(output)"
   ]
  },
  {
   "cell_type": "markdown",
   "metadata": {},
   "source": [
    "### Cost Function"
   ]
  },
  {
   "cell_type": "code",
   "execution_count": 31,
   "metadata": {},
   "outputs": [],
   "source": [
    "def softmaxXEntropy(x, y):\n",
    "    # x - matriz de predicciones de la red neuronal (salidas de la última capa), de tamaño (n_clases, batch_size)\n",
    "    # y - etiquetas verdaderas (ground truth), vector de tamaño (batch_size)\n",
    "    \n",
    "    # Calculamos el tamaño del batch, es decir, cuántos ejemplos se están procesando en esta pasada\n",
    "    batch_size = x.shape[1]\n",
    "    \n",
    "    # Calculamos las puntuaciones exponenciales de las predicciones.\n",
    "    # Esto es parte del proceso para calcular el softmax, que convierte las puntuaciones en probabilidades.\n",
    "    exp_scores = np.exp(x)\n",
    "    \n",
    "    # Dividimos las puntuaciones exponenciales por la suma de todas las puntuaciones por cada ejemplo en el batch.\n",
    "    # Esto asegura que las probabilidades en cada columna (para cada ejemplo) sumen 1.\n",
    "    probs = exp_scores / exp_scores.sum(axis=0)\n",
    "    \n",
    "    # Hacemos una copia de las probabilidades para devolverlas más tarde como las predicciones.\n",
    "    preds = probs.copy()\n",
    "    \n",
    "    # Costo:\n",
    "    # Seleccionamos las probabilidades correspondientes a las clases verdaderas usando las etiquetas 'y'.\n",
    "    # Esto nos da las probabilidades predichas para la clase correcta en cada ejemplo del batch.\n",
    "    y_hat = probs[y.squeeze(), np.arange(batch_size)]\n",
    "    \n",
    "    # Calculamos la función de costo utilizando la entropía cruzada.\n",
    "    # Tomamos el logaritmo de las probabilidades predichas para las clases correctas, lo negamos y lo sumamos.\n",
    "    # Luego promediamos el costo dividiendo por el tamaño del batch.\n",
    "    cost = np.sum(-np.log(y_hat)) / batch_size\n",
    "    \n",
    "    # Calcular los gradientes:\n",
    "    # Restamos 1 de las probabilidades predichas para las clases correctas en cada ejemplo.\n",
    "    # Esto es el gradiente de la función de costo con respecto a las entradas de softmax (dl/dx).\n",
    "    probs[y.squeeze(), np.arange(batch_size)] -= 1\n",
    "    \n",
    "    # Almacenamos los gradientes en 'x.grad', que será utilizado en la retropropagación.\n",
    "    x.grad = probs.copy()\n",
    "    \n",
    "    # Devolvemos las predicciones (probs) y el costo calculado.\n",
    "    return preds, cost"
   ]
  },
  {
   "cell_type": "markdown",
   "metadata": {},
   "source": [
    "### Loop de entrenamiento"
   ]
  },
  {
   "cell_type": "code",
   "execution_count": 32,
   "metadata": {},
   "outputs": [],
   "source": [
    "# Función para entrenar un modelo utilizando gradiente descendente.\n",
    "# model: El modelo que se va a entrenar (por ejemplo, un modelo secuencial de capas).\n",
    "# epochs: El número de épocas, que es el número de veces que todo el conjunto de datos se pasa por la red.\n",
    "# mb_size: El tamaño del minibatch, que es el número de ejemplos que se procesan juntos en cada paso de entrenamiento (por defecto 128).\n",
    "# learning_rate: La tasa de aprendizaje, que controla el tamaño de los pasos de actualización de los parámetros del modelo (por defecto 1e-3).\n",
    "def train(model, epochs, mb_size=128, learning_rate=1e-3):\n",
    "    \n",
    "    # Bucle que itera sobre cada época de entrenamiento.\n",
    "    # En cada época, el modelo ve todo el conjunto de datos una vez.\n",
    "    for epoch in range(epochs):\n",
    "        \n",
    "        # Para cada minibatch de datos (x, y), se generan minibatches utilizando la función 'create_minibatches'.\n",
    "        # 'x_train' son los datos de entrenamiento y 'y_train' son las etiquetas de entrenamiento.\n",
    "        # Enumeramos los minibatches, lo que proporciona un índice i para cada minibatch.\n",
    "        for i, (x, y) in enumerate(create_minibatches(mb_size, x_train, y_train)):\n",
    "            \n",
    "            # Realizamos la propagación hacia adelante (forward pass) a través del modelo con los datos de entrada 'x'.\n",
    "            # x.T transpone el lote de datos para que las dimensiones sean correctas.\n",
    "            # view(np_tensor) convierte el lote en un tensor de tipo np_tensor.\n",
    "            scores = model(x.T.view(np_tensor))\n",
    "            \n",
    "            # Calculamos el costo y las predicciones utilizando softmax con entropía cruzada.\n",
    "            # 'scores' son las salidas del modelo, y 'y' son las etiquetas verdaderas.\n",
    "            _, cost = softmaxXEntropy(scores, y)\n",
    "            \n",
    "            # Realizamos la retropropagación (backward pass) para calcular los gradientes de los parámetros del modelo.\n",
    "            model.backward()\n",
    "            \n",
    "            # Actualizamos los parámetros del modelo (pesos y bias) utilizando el gradiente calculado y la tasa de aprendizaje.\n",
    "            model.update(learning_rate)\n",
    "        \n",
    "        # Después de procesar todos los minibatches en una época, imprimimos el costo final y la precisión (accuracy).\n",
    "        # 'accuracy' es una función que calcula la precisión en un conjunto de validación (x_val, y_val).\n",
    "        print(f'costo: {cost}, accuracy: {accuracy(x_val, y_val, mb_size)}')"
   ]
  },
  {
   "cell_type": "code",
   "execution_count": 33,
   "metadata": {},
   "outputs": [],
   "source": [
    "# Función para calcular la precisión (accuracy) del modelo sobre un conjunto de datos.\n",
    "# La precisión se define como el porcentaje de predicciones correctas que el modelo hace en comparación con las etiquetas verdaderas.\n",
    "# x: Los datos de entrada (por ejemplo, imágenes, texto, etc.)\n",
    "# y: Las etiquetas verdaderas correspondientes a los datos (clases correctas).\n",
    "# mb_size: El tamaño de minibatch para dividir los datos y procesarlos en partes más pequeñas.\n",
    "def accuracy(x, y, mb_size):\n",
    "    \n",
    "    # Inicializamos las variables 'correct' y 'total'.\n",
    "    # 'correct' contará cuántas predicciones fueron correctas.\n",
    "    # 'total' contará el número total de ejemplos procesados.\n",
    "    correct = 0\n",
    "    total = 0\n",
    "    \n",
    "    # Iteramos sobre los minibatches creados a partir de los datos de entrada 'x' y las etiquetas 'y'.\n",
    "    # 'create_minibatches' divide el conjunto de datos en minibatches de tamaño 'mb_size'.\n",
    "    # El bucle itera sobre cada minibatch y lo pasa al modelo.\n",
    "    for i, (x, y) in enumerate(create_minibatches(mb_size, x, y)):\n",
    "        \n",
    "        # Realizamos la predicción del modelo en los datos del minibatch actual.\n",
    "        # 'x.T' transpone los datos del minibatch para asegurar que las dimensiones sean correctas.\n",
    "        # 'view(np_tensor)' convierte el minibatch en un tensor del tipo 'np_tensor', para que el modelo pueda procesarlo.\n",
    "        pred = model(x.T.view(np_tensor))\n",
    "        \n",
    "        # Calculamos cuántas de las predicciones fueron correctas.\n",
    "        # 'np.argmax(pred, axis=0)' selecciona el índice de la clase con mayor probabilidad (la predicción del modelo).\n",
    "        # 'y.squeeze()' elimina cualquier dimensión adicional en 'y' para asegurar que los tamaños coincidan.\n",
    "        # 'np.sum(...)' suma el número de predicciones correctas (donde la predicción del modelo coincide con la etiqueta verdadera).\n",
    "        correct += np.sum(np.argmax(pred, axis=0) == y.squeeze())\n",
    "        \n",
    "        # Actualizamos el contador 'total' con el número de ejemplos en el minibatch actual.\n",
    "        # 'pred.shape[1]' devuelve el tamaño del minibatch (número de ejemplos en este minibatch).\n",
    "        total += pred.shape[1]\n",
    "    \n",
    "    # Retornamos la precisión (accuracy) calculada como la fracción de predicciones correctas sobre el número total de ejemplos.\n",
    "    return correct / total"
   ]
  },
  {
   "cell_type": "markdown",
   "metadata": {},
   "source": [
    "### Create your model and train it"
   ]
  },
  {
   "cell_type": "markdown",
   "metadata": {},
   "source": [
    "#### Primera configuración"
   ]
  },
  {
   "cell_type": "code",
   "execution_count": 34,
   "metadata": {},
   "outputs": [],
   "source": [
    "# Se define el modelo utilizando la clase Sequential_layers, que toma una lista de capas como entrada.\n",
    "# En este caso, el modelo consiste en varias capas secuenciales:\n",
    "# 1. Una capa lineal que transforma un vector de 784 dimensiones (por ejemplo, una imagen de 28x28 píxeles) a 200 dimensiones.\n",
    "# 2. Una función de activación ReLU.\n",
    "# 3. Otra capa lineal que transforma las 200 dimensiones a 200 dimensiones.\n",
    "# 4. Otra función de activación ReLU.\n",
    "# 5. Una capa final que transforma las 200 dimensiones a 10, que puede representar 10 clases para un problema de clasificación.\n",
    "model = Sequential_layers([\n",
    "    Linear(784, 512),  # Capa Lineal: 784 -> 512\n",
    "    ReLU(),            # Función de activación ReLU\n",
    "    Linear(512, 256),  # Capa Lineal: 512 -> 256\n",
    "    ReLU(),            # Función de activación ReLU\n",
    "    Linear(256, 128),  # Capa Lineal: 256 -> 128\n",
    "    ReLU(),            # Función de activación ReLU\n",
    "    Linear(128, 24)    # Capa de salida: 128 -> 24 (24 clases para las 24 letras del alfabeto ASL)\n",
    "])\n",
    "# Se define el tamaño del minibatch (mb_size).\n",
    "# El minibatch es un subconjunto de los datos de entrenamiento que se procesan juntos en cada iteración.\n",
    "# En este caso, se usarán minibatches de 512 ejemplos.\n",
    "mb_size = 512\n",
    "\n",
    "# Se define la tasa de aprendizaje (learning_rate), que controla el tamaño de los pasos\n",
    "# que se toman al actualizar los parámetros del modelo (pesos y bias) durante el entrenamiento.\n",
    "# En este caso, se ha establecido una tasa de aprendizaje muy pequeña, 1e-4 (0.0001), lo que significa que los ajustes serán pequeños.\n",
    "learning_rate = 1e-4\n",
    "\n",
    "# Se define el número de épocas (epochs), que es el número de veces que todo el conjunto de entrenamiento se pasa por el modelo.\n",
    "# Aquí se ha definido que el modelo entrenará durante 20 épocas, lo que significa que verá los datos de entrenamiento 20 veces.\n",
    "epochs = 30"
   ]
  },
  {
   "cell_type": "code",
   "execution_count": 35,
   "metadata": {},
   "outputs": [
    {
     "name": "stdout",
     "output_type": "stream",
     "text": [
      "costo: 1.0391040070884532, accuracy: 0.5350069735006974\n",
      "costo: 0.4226498644386189, accuracy: 0.6764295676429568\n",
      "costo: 0.18377187937207515, accuracy: 0.7132496513249651\n",
      "costo: 0.10816546040800562, accuracy: 0.7400278940027895\n",
      "costo: 0.05900619699687712, accuracy: 0.7525801952580196\n",
      "costo: 0.0463853850281025, accuracy: 0.7587168758716876\n",
      "costo: 0.04023709356453927, accuracy: 0.7634588563458856\n",
      "costo: 0.029482401773780576, accuracy: 0.7656903765690377\n",
      "costo: 0.02315452132160348, accuracy: 0.7693165969316597\n",
      "costo: 0.01749915247634291, accuracy: 0.7718270571827057\n",
      "costo: 0.015540173347032499, accuracy: 0.7748953974895397\n",
      "costo: 0.012719525753311338, accuracy: 0.7737796373779637\n",
      "costo: 0.013244609119418795, accuracy: 0.7785216178521618\n",
      "costo: 0.010937755924509962, accuracy: 0.7799163179916317\n",
      "costo: 0.012455362351002003, accuracy: 0.7807531380753138\n",
      "costo: 0.00968133292734466, accuracy: 0.7818688981868899\n",
      "costo: 0.007660244160856901, accuracy: 0.7810320781032078\n",
      "costo: 0.00861888160300878, accuracy: 0.7821478382147838\n",
      "costo: 0.007627037366608449, accuracy: 0.7843793584379358\n",
      "costo: 0.00639403945969726, accuracy: 0.7857740585774059\n",
      "costo: 0.006596898219465632, accuracy: 0.7857740585774059\n",
      "costo: 0.006555729577492623, accuracy: 0.7863319386331938\n",
      "costo: 0.006653260888057849, accuracy: 0.7874476987447698\n",
      "costo: 0.004859165206391173, accuracy: 0.7857740585774059\n",
      "costo: 0.005755677713115717, accuracy: 0.7882845188284519\n",
      "costo: 0.004671292626951677, accuracy: 0.7874476987447698\n",
      "costo: 0.0043845752753594106, accuracy: 0.7880055788005579\n",
      "costo: 0.004513874195388901, accuracy: 0.7882845188284519\n",
      "costo: 0.004190193410597422, accuracy: 0.7885634588563459\n",
      "costo: 0.004209243072352217, accuracy: 0.7885634588563459\n"
     ]
    }
   ],
   "source": [
    "# Se entrena el modelo\n",
    "train(model, epochs, mb_size, learning_rate)"
   ]
  },
  {
   "cell_type": "code",
   "execution_count": 36,
   "metadata": {},
   "outputs": [
    {
     "name": "stdout",
     "output_type": "stream",
     "text": [
      "0.7839420128240869\n"
     ]
    }
   ],
   "source": [
    "# Accuracy del modelo\n",
    "print(accuracy(x_test, y_test, mb_size))"
   ]
  },
  {
   "cell_type": "markdown",
   "metadata": {},
   "source": [
    "#### Segunda configuración"
   ]
  },
  {
   "cell_type": "code",
   "execution_count": 37,
   "metadata": {},
   "outputs": [],
   "source": [
    "# Se define el modelo utilizando la clase Sequential_layers, que toma una lista de capas como entrada.\n",
    "# En este caso, el modelo consiste en varias capas secuenciales:\n",
    "# 1. Una capa lineal que transforma un vector de 784 dimensiones (por ejemplo, una imagen de 28x28 píxeles) a 200 dimensiones.\n",
    "# 2. Una función de activación ReLU.\n",
    "# 3. Otra capa lineal que transforma las 200 dimensiones a 200 dimensiones.\n",
    "# 4. Otra función de activación ReLU.\n",
    "# 5. Una capa final que transforma las 200 dimensiones a 10, que puede representar 10 clases para un problema de clasificación.\n",
    "model_2 = Sequential_layers([\n",
    "    Linear(784, 200),  # Capa Lineal: 784 -> 200\n",
    "    ReLU(),            # Función de activación ReLU\n",
    "    Linear(200,200),  # Capa Lineal: 200 -> 200\n",
    "    ReLU(),            # Función de activación ReLU\n",
    "    Linear(200, 24)    # Capa de salida: 200 -> 24 (24 clases para las 24 letras del alfabeto ASL)\n",
    "])\n",
    "# Se define el tamaño del minibatch (mb_size).\n",
    "# El minibatch es un subconjunto de los datos de entrenamiento que se procesan juntos en cada iteración.\n",
    "# En este caso, se usarán minibatches de 128 ejemplos.\n",
    "mb_size_2 = 128\n",
    "\n",
    "# Se define la tasa de aprendizaje (learning_rate), que controla el tamaño de los pasos\n",
    "# que se toman al actualizar los parámetros del modelo (pesos y bias) durante el entrenamiento.\n",
    "# En este caso, se ha establecido una tasa de aprendizaje muy pequeña, 3e-3 (0.003), lo que significa que los ajustes serán pequeños.\n",
    "learning_rate_2 = 3e-3\n",
    "\n",
    "# Se define el número de épocas (epochs), que es el número de veces que todo el conjunto de entrenamiento se pasa por el modelo.\n",
    "# Aquí se ha definido que el modelo entrenará durante 30 épocas, lo que significa que verá los datos de entrenamiento 20 veces.\n",
    "epochs_2 = 30"
   ]
  },
  {
   "cell_type": "code",
   "execution_count": 38,
   "metadata": {},
   "outputs": [
    {
     "name": "stdout",
     "output_type": "stream",
     "text": [
      "costo: 0.010807852895519523, accuracy: 0.7885634588563459\n",
      "costo: 0.003006304250405289, accuracy: 0.7885634588563459\n",
      "costo: 0.0021557037576543847, accuracy: 0.7885634588563459\n",
      "costo: 0.001331516363639432, accuracy: 0.7885634588563459\n",
      "costo: 0.0014983691396088003, accuracy: 0.7885634588563459\n",
      "costo: 0.0009926449510923856, accuracy: 0.7885634588563459\n",
      "costo: 0.00035961372555278067, accuracy: 0.7885634588563459\n",
      "costo: 0.0006989829598673722, accuracy: 0.7885634588563459\n",
      "costo: 0.0004753038175633592, accuracy: 0.7885634588563459\n",
      "costo: 0.0005263885251621068, accuracy: 0.7885634588563459\n",
      "costo: 0.00046293342932331454, accuracy: 0.7885634588563459\n",
      "costo: 0.000407951669291133, accuracy: 0.7885634588563459\n",
      "costo: 0.00044377328061292527, accuracy: 0.7885634588563459\n",
      "costo: 0.00026118037010673114, accuracy: 0.7885634588563459\n",
      "costo: 0.00028317392215635134, accuracy: 0.7885634588563459\n",
      "costo: 0.00014828286043688232, accuracy: 0.7885634588563459\n",
      "costo: 0.0002937856252066253, accuracy: 0.7885634588563459\n",
      "costo: 0.0002100662890743517, accuracy: 0.7885634588563459\n",
      "costo: 0.00023305007099933683, accuracy: 0.7885634588563459\n",
      "costo: 0.0001727842762058107, accuracy: 0.7885634588563459\n",
      "costo: 0.0002898665206627898, accuracy: 0.7885634588563459\n",
      "costo: 0.00014567896947526704, accuracy: 0.7885634588563459\n",
      "costo: 9.785635685619708e-05, accuracy: 0.7885634588563459\n",
      "costo: 0.00017476203658166737, accuracy: 0.7885634588563459\n",
      "costo: 0.00016472711859108155, accuracy: 0.7885634588563459\n",
      "costo: 0.00013574474217379373, accuracy: 0.7885634588563459\n",
      "costo: 0.00014139141831992838, accuracy: 0.7885634588563459\n",
      "costo: 0.000161334078576705, accuracy: 0.7885634588563459\n",
      "costo: 0.00012304284705983392, accuracy: 0.7885634588563459\n",
      "costo: 0.00016891833910213472, accuracy: 0.7885634588563459\n"
     ]
    }
   ],
   "source": [
    "# Se entrena el modelo\n",
    "train(model_2, epochs_2, mb_size_2, learning_rate_2)"
   ]
  },
  {
   "cell_type": "code",
   "execution_count": 39,
   "metadata": {},
   "outputs": [
    {
     "name": "stdout",
     "output_type": "stream",
     "text": [
      "0.7839420128240869\n"
     ]
    }
   ],
   "source": [
    "# Accuracy del modelo\n",
    "print(accuracy(x_test, y_test, mb_size_2))"
   ]
  },
  {
   "cell_type": "markdown",
   "metadata": {},
   "source": [
    "Because its accuracy is better, we choose model 2"
   ]
  },
  {
   "cell_type": "markdown",
   "metadata": {},
   "source": [
    "### Test your model on Random data from your test set"
   ]
  },
  {
   "cell_type": "code",
   "execution_count": 43,
   "metadata": {},
   "outputs": [
    {
     "data": {
      "image/png": "[encoded data removed]",
      "text/plain": [
       "<Figure size 360x360 with 1 Axes>"
      ]
     },
     "metadata": {
      "needs_background": "light"
     },
     "output_type": "display_data"
    },
    {
     "name": "stdout",
     "output_type": "stream",
     "text": [
      "El valor predicho es: n, el valor real es:n\n"
     ]
    }
   ],
   "source": [
    "# First trial\n",
    "idx = np.random.randint(len(y_test))\n",
    "plot_number(x_test[idx])\n",
    "pred = model_2.predict(x_test[idx].reshape(-1, 1))\n",
    "print(f'El valor predicho es: {alphabet[pred]}, el valor real es:{alphabet[y_test[idx].tolist()[0]]}')"
   ]
  },
  {
   "cell_type": "code",
   "execution_count": 44,
   "metadata": {},
   "outputs": [
    {
     "data": {
      "image/png": "[encoded data removed]",
      "text/plain": [
       "<Figure size 360x360 with 1 Axes>"
      ]
     },
     "metadata": {
      "needs_background": "light"
     },
     "output_type": "display_data"
    },
    {
     "name": "stdout",
     "output_type": "stream",
     "text": [
      "El valor predicho es: e, el valor real es:e\n"
     ]
    }
   ],
   "source": [
    "# Second trial\n",
    "idx = np.random.randint(len(y_test))\n",
    "plot_number(x_test[idx])\n",
    "pred = model_2.predict(x_test[idx].reshape(-1, 1))\n",
    "print(f'El valor predicho es: {alphabet[pred]}, el valor real es:{alphabet[y_test[idx].tolist()[0]]}')"
   ]
  },
  {
   "cell_type": "code",
   "execution_count": 45,
   "metadata": {},
   "outputs": [
    {
     "data": {
      "image/png": "[encoded data removed]",
      "text/plain": [
       "<Figure size 360x360 with 1 Axes>"
      ]
     },
     "metadata": {
      "needs_background": "light"
     },
     "output_type": "display_data"
    },
    {
     "name": "stdout",
     "output_type": "stream",
     "text": [
      "El valor predicho es: d, el valor real es:d\n"
     ]
    }
   ],
   "source": [
    "# Third trial\n",
    "idx = np.random.randint(len(y_test))\n",
    "plot_number(x_test[idx])\n",
    "pred = model_2.predict(x_test[idx].reshape(-1, 1))\n",
    "print(f'El valor predicho es: {alphabet[pred]}, el valor real es:{alphabet[y_test[idx].tolist()[0]]}')"
   ]
  },
  {
   "cell_type": "markdown",
   "metadata": {},
   "source": [
    "### Conclusions"
   ]
  },
  {
   "cell_type": "markdown",
   "metadata": {},
   "source": [
    "Hyperparameters in fully connected neural networks are critical as they directly influence the model’s performance, learning capacity, and generalization ability. These include learning rate, which controls how quickly the model adjusts weights; batch size, which impacts the stability and speed of training; and the number of hidden layers and neurons, which affect the model's complexity and ability to capture patterns. Proper tuning of these hyperparameters is essential for preventing underfitting, overfitting, and ensuring efficient training. Finding the optimal balance often requires experimentation and techniques like grid search, random search, or automated hyperparameter optimization."
   ]
  }
 ],
 "metadata": {
  "kernelspec": {
   "display_name": "Python 3",
   "language": "python",
   "name": "python3"
  },
  "language_info": {
   "codemirror_mode": {
    "name": "ipython",
    "version": 3
   },
   "file_extension": ".py",
   "mimetype": "text/x-python",
   "name": "python",
   "nbconvert_exporter": "python",
   "pygments_lexer": "ipython3",
   "version": "3.9.1"
  },
  "toc": {
   "base_numbering": 1,
   "nav_menu": {},
   "number_sections": true,
   "sideBar": true,
   "skip_h1_title": false,
   "title_cell": "Table of Contents",
   "title_sidebar": "Contents",
   "toc_cell": false,
   "toc_position": {},
   "toc_section_display": true,
   "toc_window_display": false
  },
  "varInspector": {
   "cols": {
    "lenName": 16,
    "lenType": 16,
    "lenVar": 40
   },
   "kernels_config": {
    "python": {
     "delete_cmd_postfix": "",
     "delete_cmd_prefix": "del ",
     "library": "var_list.py",
     "varRefreshCmd": "print(var_dic_list())"
    },
    "r": {
     "delete_cmd_postfix": ") ",
     "delete_cmd_prefix": "rm(",
     "library": "var_list.r",
     "varRefreshCmd": "cat(var_dic_list()) "
    }
   },
   "types_to_exclude": [
    "module",
    "function",
    "builtin_function_or_method",
    "instance",
    "_Feature"
   ],
   "window_display": false
  }
 },
 "nbformat": 4,
 "nbformat_minor": 4
}
